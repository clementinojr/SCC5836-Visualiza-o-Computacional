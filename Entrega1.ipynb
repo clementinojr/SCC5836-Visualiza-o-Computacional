{
 "cells": [
  {
   "cell_type": "markdown",
   "id": "1d23a91e-e99d-4861-90be-ab41a46f8465",
   "metadata": {},
   "source": [
    "## Aluno: José Maria Clementino Junior NUSP: 11357281"
   ]
  },
  {
   "cell_type": "markdown",
   "id": "3ca1f327-b095-4434-9700-0dc641085bd6",
   "metadata": {},
   "source": [
    "- Link Repositório: https://github.com/clementinojr/SCC5836-Visualiza-o-Computacional\n",
    "- Uma etapa prévia aos procedimentos realizados é a conversão das imagens no formato DICOM para PNG \n",
    "    - O código pode ser encontrado no arquivo \"convertIMGtoPND.ipynb\" no diretório de envio, como também no repositório do GitHub."
   ]
  },
  {
   "cell_type": "markdown",
   "id": "72c6edd3-0e85-426f-8853-f7604fa503e7",
   "metadata": {},
   "source": [
    "#### Descrição das bibliotecas utilizadas\n",
    "  - Bibliotecas utilizadas para o tratamento de imagens:\n",
    "      - cv2 : OpenCv\n",
    "      - PIL \n",
    "   - Bibliotecas utilizadas para a realizar a estração de caracteristicas das imagens:\n",
    "      - glob\n",
    "      - mahotas\n",
    "      - from __future__ import division\n",
    "      - convolve2d\n",
    "   - Bibliotecas utilizadas para a manipulação de arquivos:\n",
    "      - os\n",
    "      - csv\n",
    "   - Bibliotecas utilizadas para a controle de tempo:\n",
    "      - time\n",
    "      \n",
    "   - Bibliotecas utilizadas para a manipulação e visualização dos dados:\n",
    "      - pandas\n",
    "      - matplotlib\n",
    "      - numpy\n",
    "      "
   ]
  },
  {
   "cell_type": "code",
   "execution_count": 1,
   "id": "366ba1f6-1d05-4688-bba3-1673746383dc",
   "metadata": {},
   "outputs": [],
   "source": [
    "import cv2\n",
    "import numpy as np\n",
    "import os\n",
    "import glob\n",
    "import pandas as pd\n",
    "from PIL import Image \n",
    "import mahotas \n",
    "import matplotlib.pylab as plt\n",
    "import csv\n",
    "import time\n",
    "start_time = time.time()\n",
    "from __future__ import division # Utilizado para LPQ ex\n",
    "from scipy.signal import convolve2d # # Utilizado para LPQ ex"
   ]
  },
  {
   "cell_type": "markdown",
   "id": "b5cc523d-e270-4e58-87e4-093a24da68ab",
   "metadata": {},
   "source": [
    "## Na sequeência são apresentados os 3 extratores de caracteristicas de textura, que são computados pelas 3 funções: \n",
    "    - fos : FOS - First Order Statistica\n",
    "    - glcm_features  - Gray Level Co-ocurrence Level\n",
    "    - lpq_features -  Local Phase Quantization"
   ]
  },
  {
   "cell_type": "markdown",
   "id": "174b1673-1bb2-4427-b2ba-96318e03fdf4",
   "metadata": {},
   "source": [
    "### def fos_features :\n",
    "Funcão responsável por realizar a extração de caracteristica -Extrator FOS \n",
    "\n",
    "- Entrada:\n",
    "  - uma imagem N x N  e uma mascara \n",
    "\n",
    "- Saida:\n",
    "   - As sequintes features: features: 1)Mean, 2)Variance, 3)Median (50-Percentile), 4)Mode, \n",
    "                5)Skewness, 6)Kurtosis, 7)Energy, 8)Entropy, \n",
    "                9)Minimal Gray Level, 10)Maximal Gray Level, \n",
    "                11)Coefficient of Variation, 12,13,14,15)10,25,75,90-\n",
    "                Percentile, 16)Histogram width\n",
    "                "
   ]
  },
  {
   "cell_type": "code",
   "execution_count": 2,
   "id": "cb4563dd-ebbf-43ec-a982-22682a59e930",
   "metadata": {},
   "outputs": [],
   "source": [
    "# -*- coding: utf-8 -*-\n",
    "\n",
    "def fos_features(f, mask):\n",
    "    \n",
    "    # 1) Labels\n",
    "    labels = [\"FOS_Mean\",\"FOS_Variance\",\"FOS_Median\",\"FOS_Mode\",\"FOS_Skewness\",\n",
    "              \"FOS_Kurtosis\",\"FOS_Energy\",\"FOS_Entropy\",\"FOS_MinimalGrayLevel\",\n",
    "              \"FOS_MaximalGrayLevel\",\"FOS_CoefficientOfVariation\",\n",
    "              \"FOS_10Percentile\",\"FOS_25Percentile\",\"FOS_75Percentile\",\n",
    "              \"FOS_90Percentile\",\"FOS_HistogramWidth\"]\n",
    "    \n",
    "    # 2) Parametros\n",
    "    f  = f.astype(np.uint8)\n",
    "    mask = mask.astype(np.uint8)\n",
    "    level_min = 0\n",
    "    level_max = 255\n",
    "    Ng = (level_max - level_min) + 1\n",
    "    bins = Ng\n",
    "    \n",
    "    # 3) Calculo do Histogram H sobre o ROI\n",
    "    f_ravel = f.ravel() \n",
    "    mask_ravel = mask.ravel() \n",
    "    roi = f_ravel[mask_ravel.astype(bool)] \n",
    "    H = np.histogram(roi, bins=bins, range=[level_min, level_max], density=True)[0]\n",
    "    \n",
    "    # 4) Calculo das  Features\n",
    "    features = np.zeros(16,np.double)  \n",
    "    i = np.arange(0,bins)\n",
    "    features[0] = np.dot(i,H)\n",
    "    features[1] = sum(np.multiply(((i-features[0])**2),H))\n",
    "    features[2] = np.percentile(roi,50) \n",
    "    features[3] = np.argmax(H)\n",
    "    features[4] = sum(np.multiply(((i-features[0])**3),H))/(np.sqrt(features[1])**3)\n",
    "    features[5] = sum(np.multiply(((i-features[0])**4),H))/(np.sqrt(features[1])**4)\n",
    "    features[6] = sum(np.multiply(H,H))\n",
    "    features[7] = -sum(np.multiply(H,np.log(H+1e-16)))\n",
    "    features[8] = min(roi)\n",
    "    features[9] = max(roi)\n",
    "    features[10] = np.sqrt(features[2]) / features[0]\n",
    "    features[11] = np.percentile(roi,10) \n",
    "    features[12] = np.percentile(roi,25)  \n",
    "    features[13] = np.percentile(roi,75) \n",
    "    features[14] = np.percentile(roi,90) \n",
    "    features[15] = features[14] - features[11]\n",
    "    \n",
    "    return features, labels\n"
   ]
  },
  {
   "cell_type": "markdown",
   "id": "58b06f59-d685-49b3-8294-0acba6072966",
   "metadata": {},
   "source": [
    "### def glcm_features :\n",
    "Funcão responsável por realizar a extração de caracteristica - Extrator GLCM \n",
    "- Entrada:\n",
    "    - f: imagem das dimensões N1 x N2\n",
    "    - d: distância para calcular a matriz de co-ocorrência (padrão d = 1)\n",
    "    - th: ângulo para calcular a matriz de co-ocorrência (padrão th = [0,45,90,135])\n",
    "    - ignore_zeros: ignorar zeros devido à máscara (padrão True)\n",
    "- Outputs:\n",
    "    - features:      Haralick's 1)Angular Second Moment, 2)Contrast, \n",
    "                     3)Correlation, 4)Sum of Squares: Variance, 5)Inverse \n",
    "                     Difference Moment 6)Sum Average, 7)Sum Variance, 8)Sum \n",
    "                     Entropy, 9)Entropy, 10)Difference Variance, 11)Difference \n",
    "                     Entropy, 12)Information Measure of Correlation 1, \n",
    "                     13)Information Measure of Correlation 2, 14)Maximal \n",
    "                     Correlation Coefficient    \n"
   ]
  },
  {
   "cell_type": "code",
   "execution_count": 3,
   "id": "c866fc68-f764-46ec-9af5-5efd0ab2ab8a",
   "metadata": {},
   "outputs": [],
   "source": [
    "# -*- coding: utf-8 -*-\n",
    "def glcm_features(f, ignore_zeros=True):\n",
    "    \n",
    "    # 1) Labels\n",
    "    labels = [\"GLCM_ASM\", \"GLCM_Contrast\", \"GLCM_Correlation\",\n",
    "              \"GLCM_SumOfSquaresVariance\", \"GLCM_InverseDifferenceMoment\",\n",
    "               \"GLCM_SumAverage\", \"GLCM_SumVariance\", \"GLCM_SumEntropy\",\n",
    "               \"GLCM_Entropy\", \"GLCM_DifferenceVariance\",\n",
    "               \"GLCM_DifferenceEntropy\", \"GLCM_Information1\",\n",
    "               \"GLCM_Information2\", \"GLCM_MaximalCorrelationCoefficient\"]\n",
    "    labels_mean = [label + \"_Mean\" for label in labels]\n",
    "    labels_range = [label + \"_Range\" for label in labels]\n",
    "    \n",
    "    # 2) Parameters\n",
    "    f = f.astype(np.uint8)\n",
    "    \n",
    "    # 3) Calculate Features: Mean and Range\n",
    "    features = mahotas.features.haralick(f, \n",
    "                                         ignore_zeros=True, \n",
    "                                         compute_14th_feature=True,\n",
    "                                         return_mean_ptp=True)\n",
    "    features_mean = features[0:14]\n",
    "    features_range = features[14:]\n",
    "    \n",
    "    return features_mean, features_range, labels_mean, labels_range\n"
   ]
  },
  {
   "cell_type": "markdown",
   "id": "931f9040-e064-48bd-a863-2de37b21846b",
   "metadata": {},
   "source": [
    "### def lpq_features :\n",
    "Funcão responsável por realizar a extração de caracteristica - Extrator LPQ \n",
    "- Entrada:\n",
    "    - img: imagem das dimensões N x N\n",
    "    - winSize: tamanho da janela \n",
    "    - freqestim: Janela uniforme STFT\n",
    "    - mode: definição do tipo de histograma \n",
    "- Outputs:\n",
    "    - features: Histogramas das janelas\n",
    "    "
   ]
  },
  {
   "cell_type": "code",
   "execution_count": 4,
   "id": "4dae9fbd-c653-4458-bb66-b47453447054",
   "metadata": {},
   "outputs": [],
   "source": [
    "def lpq_features(img,winSize=3,freqestim=1,mode='nh'):\n",
    "    rho=0.90\n",
    "\n",
    "    STFTalpha=1/winSize  # alfa em abordagens STFT (para derivada gaussiana alfa = 1)\n",
    "    sigmaS=(winSize-1)/4 # Sigma para janela STFT Gaussian (aplicado se freqestim == 2)\n",
    "    sigmaA=8/(winSize-1) # Sigma para filtros de quadratura derivada de Gauss (aplicado se freqestim == 3)\n",
    "\n",
    "    convmode='valid' # Calcule as respostas do descritor apenas na parte que tem vizinhança completa. Use 'same' se todos os pixels forem incluídos (extrapola np.image com zeros).\n",
    "\n",
    "    img=np.float64(img) # Converter np.image em double\n",
    "    r=(winSize-1)/2 # Obtenha o raio do tamanho da janela\n",
    "    x=np.arange(-r,r+1)[np.newaxis] # Formar coordenadas espaciais na janela\n",
    "\n",
    "    if freqestim==1:  #  Janela uniforme STFT\n",
    "        # Filtros STFT básicos\n",
    "        w0=np.ones_like(x)\n",
    "        w1=np.exp(-2*np.pi*x*STFTalpha*1j)\n",
    "        w2=np.conj(w1)\n",
    "\n",
    "    ## Execute filtros para calcular a resposta de frequência nos quatro pontos. Armazene as partes np.real e np.imaginary separadamente\n",
    "     # Execute o primeiro filtro\n",
    "    filterResp1=convolve2d(convolve2d(img,w0.T,convmode),w1,convmode)\n",
    "    filterResp2=convolve2d(convolve2d(img,w1.T,convmode),w0,convmode)\n",
    "    filterResp3=convolve2d(convolve2d(img,w1.T,convmode),w1,convmode)\n",
    "    filterResp4=convolve2d(convolve2d(img,w1.T,convmode),w2,convmode)\n",
    "\n",
    "   # Inicie a matriz de domínio de frequência para quatro coordenadas de frequência (partes np.real e np.imaginary para cada frequência).\n",
    "    freqResp=np.dstack([filterResp1.real, filterResp1.imag,\n",
    "                        filterResp2.real, filterResp2.imag,\n",
    "                        filterResp3.real, filterResp3.imag,\n",
    "                        filterResp4.real, filterResp4.imag])\n",
    "\n",
    "   ## Execute a quantização e calcule palavras-código LPQ\n",
    "    inds = np.arange(freqResp.shape[2])[np.newaxis,np.newaxis,:]\n",
    "    LPQdesc=((freqResp>0)*(2**inds)).sum(2)\n",
    "\n",
    "    ## Mude o formato para uint8 se o código LPQ np.image for necessário como saída\n",
    "    if mode=='im':\n",
    "        LPQdesc=np.uint8(LPQdesc)\n",
    "\n",
    "   ## Histograma se necessário\n",
    "    if mode=='nh' or mode=='h':\n",
    "        LPQdesc=np.histogram(LPQdesc.flatten(),range(256))[0]\n",
    "\n",
    "    ## Normalize o histograma se necessário\n",
    "    if mode=='nh':\n",
    "        LPQdesc=LPQdesc/LPQdesc.sum()\n",
    "\n",
    "    return LPQdesc"
   ]
  },
  {
   "cell_type": "markdown",
   "id": "84c858cb-ec52-4c39-a28e-50c84264ba7a",
   "metadata": {},
   "source": [
    "## Função que realiza a extrações de características de imagens em um diretório\n",
    " - Acões:\n",
    "   - Recebe o diretório, no qual estão localizadas as imagens, faz a contagem das imagens. \n",
    "   - Converte a image para escala de cinza\n",
    "   - O código assume que as imagens já estão no mesmo tamanho\n",
    "   - Faz as chamadas das funções dos extratores de caracteristicas \n",
    "   - Monitora e mostra o tempo de processamento de cada extrator\n",
    "   - Retorna um objeto que contem uma lista para cada extrator "
   ]
  },
  {
   "cell_type": "code",
   "execution_count": 5,
   "id": "1f8b710c-05d6-41a7-9165-8546105698ce",
   "metadata": {},
   "outputs": [],
   "source": [
    "def ExtractFeatureDataset(path):\n",
    "    images_path = os.listdir(path)\n",
    "    data = []\n",
    "    for n, image in enumerate(images_path):\n",
    "        print('Extraindo: ', image, ' Category:', os.path.basename(os.path.normpath(path)), ' Quantidade: ', n, '/', len(images_path))\n",
    "        img = cv2.imread(os.path.join(path, image))\n",
    "        img_gray = cv2.cvtColor(img, cv2.COLOR_BGR2GRAY)\n",
    "        img = img.max(2)\n",
    "        mask = np.ones((img.shape[0], img.shape[1]))\n",
    "        feature_fos = fos_features(img, mask)[0]\n",
    "        print('FOS-Extraido, %s Segundos' % round((time.time() - start_time),2) )\n",
    "        aux_feature = glcm_features(img)\n",
    "        feature_glcm = np.hstack([aux_feature[0], aux_feature[1]])\n",
    "        print('GLCM-Extraido, %s Segundos' % round((time.time() - start_time),2) )\n",
    "        feature_lpq = lpq_features(img, 7)\n",
    "        print('LPQ-Extraido, %s Segundos' % round((time.time() - start_time),2) )\n",
    "\n",
    "        imgData = imageData()\n",
    "        imgData.name = image\n",
    "        imgData.featureFos = list(feature_fos)\n",
    "        imgData.featureGlcm = list(feature_glcm)\n",
    "        imgData.featureLpq = list(feature_lpq)\n",
    "       \n",
    "        imgData.category = os.path.basename(os.path.normpath(path))\n",
    "        data.append(imgData)\n",
    "    return data"
   ]
  },
  {
   "cell_type": "markdown",
   "id": "06a9616e-2c63-49d0-b4ba-adbacd678367",
   "metadata": {},
   "source": [
    "### A cedula abaixo realiza a extração das caracteristicas \n",
    "- Entrada\n",
    "    - Diretórios onde estão localizadas as imagens \n",
    "- Saida:\n",
    "    - Geração de um arquivo em csv, que contem a identificação da imagem, classe e as listas das caracteristicas extraidas "
   ]
  },
  {
   "cell_type": "code",
   "execution_count": 6,
   "id": "d2e0c04b-4cc6-42f3-8aae-e464171dd61d",
   "metadata": {},
   "outputs": [
    {
     "name": "stdout",
     "output_type": "stream",
     "text": [
      "Extraindo:  Fig -1 -Backes (1).png  Category: Testecovid  Quantidade:  0 / 1\n",
      "FOS-Extraido, 0.54 Segundos\n",
      "GLCM-Extraido, 0.59 Segundos\n",
      "LPQ-Extraido, 0.76 Segundos\n",
      "Extraindo:  Fig -1 -Backes (1).png  Category: Testenormal  Quantidade:  0 / 1\n",
      "FOS-Extraido, 0.81 Segundos\n",
      "GLCM-Extraido, 0.85 Segundos\n",
      "LPQ-Extraido, 1.04 Segundos\n"
     ]
    }
   ],
   "source": [
    "class imageData(object):\n",
    "    __slots__ = ['name', \n",
    "                'featureFos', \n",
    "                'featureGlcm', \n",
    "                'featureLpq',\n",
    "                'category']\n",
    "\n",
    "img1 = imageData()\n",
    "img1.name = 'imagem'\n",
    "#Define o caminho do diretório onde estão localizados as imagens para realizar a extração \n",
    "folder_path_covid = \"C:/Users/junin/Documents/Testecovid\"\n",
    "folder_path_normais = \"C:/Users/junin/Documents/Testenormal\"\n",
    "\n",
    "dataCovid = ExtractFeatureDataset(folder_path_covid)\n",
    "dataNormal = ExtractFeatureDataset(folder_path_normais)\n",
    "\n",
    "\n",
    "##Combinando para gerar uma lista só para exportarção em CSV\n",
    "combineData = np.append(dataCovid, dataNormal)\n",
    "#combineData2 = np.append(combineData, dataIntersticial)\n",
    "dataSet = combineData\n",
    "\n",
    "##Titulo de cada atributo\n",
    "fieldnames = ['Image', \n",
    "              'featureFos', \n",
    "              'featureGlcm', \n",
    "              'featureLpq',\n",
    "              'Category']\n",
    "\n",
    "##Função que exporta a lista de extrações em CSV \n",
    "def WriteCSVFile(path, fieldnames, dataset):\n",
    "    file = open(path, 'w', newline='', encoding='utf-8')\n",
    "    writer = csv.writer(file)\n",
    "    writer.writerow(fieldnames)\n",
    "    for data in dataset:\n",
    "        objImg = [data.name, \n",
    "                  data.featureFos, \n",
    "                  data.featureGlcm, \n",
    "                  data.featureLpq, \n",
    "                  data.category]\n",
    "        writer.writerow(objImg)\n",
    "\n",
    "WriteCSVFile('C:/Users/junin/Documents/Git SCC5836/SCC5836-Visualiza-o-Computacional/Kdataset_texture_features_raiox1.csv',fieldnames, dataSet)"
   ]
  },
  {
   "cell_type": "code",
   "execution_count": null,
   "id": "bc4fe3ac-7ce3-47a5-ae3d-10828f9b50ad",
   "metadata": {},
   "outputs": [],
   "source": []
  },
  {
   "cell_type": "markdown",
   "id": "2ffdbf7c-4dec-4797-ba71-df3a85e87a26",
   "metadata": {},
   "source": [
    "   **Formato do CSV:**\n",
    "\n",
    "|Índice|Imagem|featureFos|featureGlcm|featureGlcm|Category|\n",
    "|:--:|:--:|:--:|:--:|:--:|:--:|\n",
    "|0|nomeImagem.png|list [...]|list [...]|list [...]|Class|\n",
    "\n",
    "  **Dimensionalidade dos dados:**\n",
    "\n",
    "*  dataset_raiox_features_adjusted.csv\n",
    "\n",
    "|featureFos|featureGlcm|featureGlcm|\n",
    "|:--:|:--:|:--:|\n",
    "|512|13|108|\n",
    "\n",
    "*  dataset_texture_features_raiox.csv\n",
    "*  kaggle_dataset_texture_features_raiox.csv\n",
    "\n"
   ]
  },
  {
   "cell_type": "markdown",
   "id": "98b93c91-9884-4122-9cae-89d4592fced4",
   "metadata": {},
   "source": [
    "* Inicialmente, os valores estavam sendo considerados como uma string. Portanto foi necessario remover os colchetes com o [1:-1] e fazer o split dos dados\n",
    "* Retorna os dados extraidos em formato de lista"
   ]
  },
  {
   "cell_type": "code",
   "execution_count": 7,
   "id": "b862af29-8a70-4229-a046-d4511bc02103",
   "metadata": {},
   "outputs": [],
   "source": [
    "def split_data(input, feature_name, size):\n",
    "    image_ids = []\n",
    "    image_features = []\n",
    "    image_categories = []\n",
    "    for i in range(size):\n",
    "        \n",
    "        x = [ float(v) for v in input.iloc[i][feature_name][1:-1].split(\", \") ] \n",
    "        x = np.array(x)\n",
    "        image_features.append(x)\n",
    "        image_ids.append(input.iloc[i].Image)\n",
    "        image_categories.append(input.iloc[i].Category)\n",
    "    return image_ids, image_features, image_categories"
   ]
  },
  {
   "cell_type": "code",
   "execution_count": 10,
   "id": "d773b35a-ac83-4811-8bb8-cbcd25a59d45",
   "metadata": {},
   "outputs": [],
   "source": [
    "#Leitura do Dataset\n",
    "input = pd.read_csv(\"Kdataset_texture_features_raiox1.csv\")"
   ]
  },
  {
   "cell_type": "code",
   "execution_count": 11,
   "id": "5c55fa63-2796-49eb-b996-8fedcdaa681d",
   "metadata": {},
   "outputs": [
    {
     "name": "stdout",
     "output_type": "stream",
     "text": [
      "\n",
      "Dataset completo:\n",
      "Testecovid     1\n",
      "Testenormal    1\n",
      "Name: Category, dtype: int64\n"
     ]
    }
   ],
   "source": [
    "#Classes no dataset\n",
    "print(\"\\nDataset completo:\")\n",
    "print(input[\"Category\"].value_counts())"
   ]
  },
  {
   "cell_type": "code",
   "execution_count": 12,
   "id": "d1ccf37a-96b0-4112-95d4-f34c6615fcb1",
   "metadata": {},
   "outputs": [
    {
     "name": "stdout",
     "output_type": "stream",
     "text": [
      "Testecovid     1\n",
      "Testenormal    1\n",
      "Name: Category, dtype: int64\n"
     ]
    }
   ],
   "source": [
    "#print(\"\\nDataset com 2 classes:\")\n",
    "print(input[\"Category\"].value_counts())"
   ]
  },
  {
   "cell_type": "code",
   "execution_count": 13,
   "id": "eeab9fe5-0c94-4b63-838f-595b21a48f83",
   "metadata": {},
   "outputs": [
    {
     "data": {
      "text/html": [
       "<div>\n",
       "<style scoped>\n",
       "    .dataframe tbody tr th:only-of-type {\n",
       "        vertical-align: middle;\n",
       "    }\n",
       "\n",
       "    .dataframe tbody tr th {\n",
       "        vertical-align: top;\n",
       "    }\n",
       "\n",
       "    .dataframe thead th {\n",
       "        text-align: right;\n",
       "    }\n",
       "</style>\n",
       "<table border=\"1\" class=\"dataframe\">\n",
       "  <thead>\n",
       "    <tr style=\"text-align: right;\">\n",
       "      <th></th>\n",
       "      <th>Image</th>\n",
       "      <th>featureFos</th>\n",
       "      <th>featureGlcm</th>\n",
       "      <th>featureLpq</th>\n",
       "      <th>Category</th>\n",
       "    </tr>\n",
       "  </thead>\n",
       "  <tbody>\n",
       "    <tr>\n",
       "      <th>0</th>\n",
       "      <td>Fig -1 -Backes (1).png</td>\n",
       "      <td>[230.3243073350637, 3719.7131333804423, 255.0,...</td>\n",
       "      <td>[0.5483556439064575, 4231.214005920127, 0.4303...</td>\n",
       "      <td>[0.0010137724041040486, 0.004903891183106987, ...</td>\n",
       "      <td>Testecovid</td>\n",
       "    </tr>\n",
       "    <tr>\n",
       "      <th>1</th>\n",
       "      <td>Fig -1 -Backes (1).png</td>\n",
       "      <td>[230.3243073350637, 3719.7131333804423, 255.0,...</td>\n",
       "      <td>[0.5483556439064575, 4231.214005920127, 0.4303...</td>\n",
       "      <td>[0.0010137724041040486, 0.004903891183106987, ...</td>\n",
       "      <td>Testenormal</td>\n",
       "    </tr>\n",
       "  </tbody>\n",
       "</table>\n",
       "</div>"
      ],
      "text/plain": [
       "                    Image                                         featureFos  \\\n",
       "0  Fig -1 -Backes (1).png  [230.3243073350637, 3719.7131333804423, 255.0,...   \n",
       "1  Fig -1 -Backes (1).png  [230.3243073350637, 3719.7131333804423, 255.0,...   \n",
       "\n",
       "                                         featureGlcm  \\\n",
       "0  [0.5483556439064575, 4231.214005920127, 0.4303...   \n",
       "1  [0.5483556439064575, 4231.214005920127, 0.4303...   \n",
       "\n",
       "                                          featureLpq     Category  \n",
       "0  [0.0010137724041040486, 0.004903891183106987, ...   Testecovid  \n",
       "1  [0.0010137724041040486, 0.004903891183106987, ...  Testenormal  "
      ]
     },
     "execution_count": 13,
     "metadata": {},
     "output_type": "execute_result"
    }
   ],
   "source": [
    "#Atualizando indices (Removendo os 'furos' dos drops)\n",
    "input = input.reset_index()\n",
    "input = input.drop('index', axis=1)\n",
    "input"
   ]
  },
  {
   "cell_type": "code",
   "execution_count": 15,
   "id": "3a9511d7-31a4-44d4-a4d6-0897f4bc7dd1",
   "metadata": {},
   "outputs": [
    {
     "name": "stdout",
     "output_type": "stream",
     "text": [
      "Total number of images:  2\n",
      "\n",
      "Dimensionality: \n",
      "featureFos 16\n",
      "featureGlcm 28\n",
      "featureLpq 255\n"
     ]
    }
   ],
   "source": [
    "#Definindo as features e as funcoes de distancia\n",
    "feature_names = [\"featureFos\", \"featureGlcm\",\"featureLpq\"] #[f for f in input.columns[1:-1]]\n",
    "#distance_functions = [\"euclidean\", \"cosine\", \"manhattan\"] #Mesmas distancias: l1=manhattan=cityblock  e  l2=euclidean\n",
    "seed = 42 #Semente de entrada para execucao das Tecnicas de Projecao Multidimensional\n",
    "#distance_matrix_output = True #Ativa/Desativa a geracao dos arquivos contendo matrizes de dissimilaridade\n",
    "\n",
    "#Numero de instancias do dataset\n",
    "size = input.shape[0]\n",
    "print(\"Total number of images: \", size)\n",
    "\n",
    "print(\"\\nDimensionality: \")\n",
    "#Obtendo as features\n",
    "image_ids = {}; image_features = {}; image_categories  = {};\n",
    "for feature_name in feature_names:\n",
    "    ids, features, categories = split_data(input, feature_name, size)\n",
    "    print(feature_name, len(features[0]))\n",
    "    image_ids[feature_name] = ids\n",
    "    image_features[feature_name] = features\n",
    "    image_categories[feature_name] = categories"
   ]
  },
  {
   "cell_type": "code",
   "execution_count": null,
   "id": "74f835ad-0f48-452d-aee6-c3a2e077bee4",
   "metadata": {},
   "outputs": [],
   "source": []
  }
 ],
 "metadata": {
  "kernelspec": {
   "display_name": "env_visu",
   "language": "python",
   "name": "env_visu"
  },
  "language_info": {
   "codemirror_mode": {
    "name": "ipython",
    "version": 3
   },
   "file_extension": ".py",
   "mimetype": "text/x-python",
   "name": "python",
   "nbconvert_exporter": "python",
   "pygments_lexer": "ipython3",
   "version": "3.9.7"
  }
 },
 "nbformat": 4,
 "nbformat_minor": 5
}
