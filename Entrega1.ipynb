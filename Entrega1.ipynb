{
 "cells": [
  {
   "cell_type": "code",
   "execution_count": 8,
   "id": "003b439e-4ee5-4787-a7a1-f47203b54d35",
   "metadata": {},
   "outputs": [],
   "source": [
    "import cv2\n",
    "import numpy as np\n",
    "import os\n",
    "import glob\n",
    "import pandas as pd\n",
    "from PIL import Image \n",
    "import mahotas \n",
    "import matplotlib.pylab as plt\n",
    "import csv\n",
    "import time\n",
    "start_time = time.time()\n",
    "\n",
    "#from Features import *"
   ]
  },
  {
   "cell_type": "markdown",
   "id": "b5cc523d-e270-4e58-87e4-093a24da68ab",
   "metadata": {},
   "source": [
    "As imagens utilizadas são disponibilizadas no formato DICOM: "
   ]
  },
  {
   "cell_type": "code",
   "execution_count": null,
   "id": "2ea429d2-4f9f-4267-88df-072a586a543f",
   "metadata": {},
   "outputs": [],
   "source": [
    "##Função que realiza a extrações de características de imagens em uma pasta\n",
    "def ExtractFeatureDataset(path):\n",
    "    images_path = os.listdir(path)\n",
    "    data = []\n",
    "    for n, image in enumerate(images_path):\n",
    "        print('Extraindo: ', image, ' Category:', os.path.basename(os.path.normpath(path)), ' Quantidade: ', n, '/', len(images_path))\n",
    "        img = cv2.imread(os.path.join(path, image))\n",
    "        #resize_ratio = 0.5\n",
    "        #img = maintain_aspect_ratio_resize(img, width=int(img.shape[1] * resize_ratio))\n",
    "        img_gray = cv2.cvtColor(img, cv2.COLOR_BGR2GRAY)\n",
    "        img = img.max(2)\n",
    "        mask = np.ones((img.shape[0], img.shape[1]))\n",
    "        feature_1 = fos(img, mask)[0]\n",
    "        print('FOS-Extraido, %s Segundos' % round((time.time() - start_time),2) )\n",
    "        aux_feature = glcm_features(img)\n",
    "        feature_2 = np.hstack([aux_feature[0], aux_feature[1]])\n",
    "        print('GLCM-Extraido, %s Segundos' % round((time.time() - start_time),2) )\n",
    "        #feature_3 = glds_features(img, mask)[0]\n",
    "        #print('GLDS-Extraido, %s Segundos' % round((time.time() - start_time),2) )\n",
    "        #feature_4 = ngtdm_features(img, mask, 8)[0]\n",
    "        #print('NGTDM-Extraido, %s Segundos' % round((time.time() - start_time),2) )\n",
    "        #feature_5 = sfm_features(img, mask)[0]\n",
    "       # print('SGM-Extraido, %s Segundos' % round((time.time() - start_time),2) )\n",
    "        #feature_6 = lte_measures(img, mask, 3)[0]\n",
    "        # print('LTE-Extraido, %s Segundos' % round((time.time() - start_time),2) )\n",
    "        # feature_7 = fps(img, mask)[0]\n",
    "        # print('FPS-Extraido, %s Segundos' % round((time.time() - start_time),2) )\n",
    "        # feature_8 = lbp_features_no_mask(img, 8, 2)\n",
    "        #print('LBP-Extraido, %s Segundos' % round((time.time() - start_time),2) )\n",
    "        feature_9 = lpq_features(img, 7)\n",
    "        print('LPQ-Extraido, %s Segundos' % round((time.time() - start_time),2) )\n",
    "        #feature_10 = cv2.HuMoments(cv2.moments(img_gray)).flatten()\n",
    "        #print('HUMoments-Extraido, %s Segundos' % round((time.time() - start_time),2) )\n",
    "        #feature_11 = np.hstack([feature_1, feature_2, feature_3, feature_4, feature_5, feature_6, feature_7])\n",
    "        #print('COMBINATION1-Extraido, %s Segundos' % round((time.time() - start_time),2) )\n",
    "       # feature_12 = np.hstack([feature_1, feature_2, feature_3, feature_4, feature_5, feature_6, feature_7, feature_8, feature_9, feature_10])\n",
    "        #print('COMBINATION2-Extraido, %s Segundos' % round((time.time() - start_time),2) )\n",
    "\n",
    "        imgData = imageData()\n",
    "        imgData.name = image\n",
    "        imgData.feature1 = list(feature_1)\n",
    "        imgData.feature2 = list(feature_2)\n",
    "        # imgData.feature3 = list(feature_3)\n",
    "        # imgData.feature4 = list(feature_4)\n",
    "        # imgData.feature5 = list(feature_5)\n",
    "        # imgData.feature6 = list(feature_6)\n",
    "        # imgData.feature7 = list(feature_7)\n",
    "        # imgData.feature8 = list(feature_8)\n",
    "        imgData.feature9 = list(feature_9)\n",
    "        # imgData.feature10 = list(feature_10)\n",
    "        # imgData.feature11 = list(feature_11)\n",
    "        # imgData.feature12 = list(feature_12)\n",
    "        imgData.category = os.path.basename(os.path.normpath(path))\n",
    "        data.append(imgData)\n",
    "    return data\n"
   ]
  }
 ],
 "metadata": {
  "kernelspec": {
   "display_name": "PythonVisu",
   "language": "python",
   "name": "pythonvisu"
  },
  "language_info": {
   "codemirror_mode": {
    "name": "ipython",
    "version": 3
   },
   "file_extension": ".py",
   "mimetype": "text/x-python",
   "name": "python",
   "nbconvert_exporter": "python",
   "pygments_lexer": "ipython3",
   "version": "3.9.6"
  }
 },
 "nbformat": 4,
 "nbformat_minor": 5
}
