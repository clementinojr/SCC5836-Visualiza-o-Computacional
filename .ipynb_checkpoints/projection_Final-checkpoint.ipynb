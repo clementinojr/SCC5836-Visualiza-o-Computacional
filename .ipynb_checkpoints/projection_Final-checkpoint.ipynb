{
 "cells": [
  {
   "cell_type": "code",
   "execution_count": 1,
   "id": "5f80eba8",
   "metadata": {},
   "outputs": [],
   "source": [
    "import pandas as pd\n",
    "import numpy as np\n",
    "import pandas as pd\n",
    "from ipywidgets import widgets"
   ]
  },
  {
   "cell_type": "code",
   "execution_count": 24,
   "id": "2988a60d",
   "metadata": {},
   "outputs": [],
   "source": [
    "import cv2"
   ]
  },
  {
   "cell_type": "code",
   "execution_count": null,
   "id": "7aa05356",
   "metadata": {},
   "outputs": [],
   "source": [
    "import cv2 \n",
    "from matplotlib import pyplot as plt \n",
    "bins =256\n",
    "img = cv2.imread('E:/DataSetCovid/COVID-19_Radiography_Dataset/COVID/COVID-169.png',0) \n",
    "histr = cv2.calcHist([img],[0],None,[bins],[0,256]) \n"
   ]
  },
  {
   "cell_type": "code",
   "execution_count": null,
   "id": "9c17d71c",
   "metadata": {},
   "outputs": [],
   "source": [
    "#important library to show the image \n",
    "import matplotlib.image as mpimg\n",
    "#import matplotlib.pyplot as plt\n",
    "from bqplot import pyplot as plt\n",
    "#importing numpy to work with large set of data.\n",
    "import numpy as np\n",
    "#image read function\n",
    "img=cv2.imread('E:/DataSetCovid/COVID-19_Radiography_Dataset/COVID/COVID-169.png') \n",
    "#image sclicing into 2D. \n",
    "x=img[:,:,0]\n",
    "# x co-ordinate denotation. \n",
    "plt.xlabel(\"Value\")\n",
    "# y co-ordinate denotation.\n",
    "plt.ylabel(\"pixels Frequency\")\n",
    "# title of an image .\n",
    "plt.title(\"Original Image\")\n",
    "# imshow function with comperision of gray level value.\n",
    "#plt.imshow(x,cmap=\"gray\")\n",
    "#plot the image on a plane.\n",
    "plt.show()\n",
    "plt.title(\"HIstogramm for given Image'  \")\n",
    "plt.xlabel(\"Value\")\n",
    "plt.ylabel(\"pixels Frequency\")\n",
    "#hist function is used to plot t\n",
    "hist =plt.hist(histr, bins=256)"
   ]
  },
  {
   "cell_type": "code",
   "execution_count": null,
   "id": "55fc573d",
   "metadata": {},
   "outputs": [],
   "source": [
    "slider = widgets.IntSlider(min=1, max=256, v_model =30)\n",
    "slider"
   ]
  },
  {
   "cell_type": "code",
   "execution_count": null,
   "id": "e4fa839d",
   "metadata": {},
   "outputs": [],
   "source": [
    "widgets.link((hist,'bins'),(slider, 'value'));"
   ]
  },
  {
   "cell_type": "code",
   "execution_count": null,
   "id": "7fa68bfc",
   "metadata": {},
   "outputs": [],
   "source": [
    "import plotly.express as px\n",
    "from skimage import data\n",
    "img\n",
    "fig = px.imshow(img)\n",
    "fig.add_annotation(\n",
    "    x=0.5,\n",
    "    y=0.9,\n",
    "    text=\"Covid-19 Patient\",\n",
    "    xref=\"paper\",\n",
    "    yref=\"paper\",\n",
    "    showarrow=False,\n",
    "    font_size=20, font_color='cyan')\n",
    "# Shape defined programatically\n",
    "fig.add_shape(\n",
    "    type='rect',\n",
    "    x0=100, x1=150, y0=150, y1=200,\n",
    "    xref='x', yref='y',\n",
    "    line_color='cyan'\n",
    ")\n",
    "# Define dragmode, newshape parameters, amd add modebar buttons\n",
    "fig.update_layout(\n",
    "    dragmode='drawrect',\n",
    "    newshape=dict(line_color='cyan'))\n",
    "fig.show(config={'modeBarButtonsToAdd':['drawline',\n",
    "                                        'drawopenpath',\n",
    "                                        'drawclosedpath',\n",
    "                                        'drawcircle',\n",
    "                                        'drawrect',\n",
    "                                        'eraseshape'\n",
    "                                       ]})"
   ]
  },
  {
   "cell_type": "code",
   "execution_count": null,
   "id": "0c84084b",
   "metadata": {},
   "outputs": [],
   "source": []
  },
  {
   "cell_type": "code",
   "execution_count": null,
   "id": "2712bfb4",
   "metadata": {},
   "outputs": [],
   "source": []
  },
  {
   "cell_type": "code",
   "execution_count": null,
   "id": "c9697f48",
   "metadata": {},
   "outputs": [],
   "source": []
  },
  {
   "cell_type": "code",
   "execution_count": null,
   "id": "b0d1a5d3",
   "metadata": {},
   "outputs": [],
   "source": []
  },
  {
   "cell_type": "code",
   "execution_count": null,
   "id": "3974619e",
   "metadata": {},
   "outputs": [],
   "source": []
  },
  {
   "cell_type": "code",
   "execution_count": 3,
   "id": "85043080",
   "metadata": {},
   "outputs": [],
   "source": [
    "df_london = pd.read_csv('final_coor_n.csv')\n",
    "df_acu = pd.read_csv('final_acuracia_n.csv')"
   ]
  },
  {
   "cell_type": "code",
   "execution_count": 4,
   "id": "dab3435c",
   "metadata": {},
   "outputs": [],
   "source": [
    "decimals = 2    \n",
    "df_acu['Acuracia'] = df_acu['Acuracia'].apply(lambda x: round(x, decimals))"
   ]
  },
  {
   "cell_type": "code",
   "execution_count": 5,
   "id": "8157fd8b",
   "metadata": {},
   "outputs": [],
   "source": [
    "ALL = 'ALL'\n",
    "def unique_sorted_values_plus_ALL(array):\n",
    "    unique = array.unique().tolist()\n",
    "    unique.sort()\n",
    "    unique.insert(0, ALL)\n",
    "    return unique"
   ]
  },
  {
   "cell_type": "code",
   "execution_count": 6,
   "id": "2b066d04",
   "metadata": {},
   "outputs": [],
   "source": [
    "def colour_ge_value(value, comparison):\n",
    "    if value >= comparison:\n",
    "        return 'color: red'\n",
    "    else:\n",
    "        return 'color: black'"
   ]
  },
  {
   "cell_type": "code",
   "execution_count": 20,
   "id": "16b2e83f",
   "metadata": {},
   "outputs": [],
   "source": [
    "import matplotlib.pyplot as plt\n",
    "import plotly.express as px\n",
    "\n",
    "output = widgets.Output()\n",
    "plot_output = widgets.Output()\n",
    "bar_output = widgets.Output()\n",
    "\n",
    "dropdown_proj = widgets.Dropdown(options = unique_sorted_values_plus_ALL(df_london.proj),description = 'Projeção:')\n",
    "dropdown_feature = widgets.Dropdown(options = unique_sorted_values_plus_ALL(df_london.feature),description = 'Feature:')\n",
    "dropdown_distancia = widgets.Dropdown(options = unique_sorted_values_plus_ALL(df_london.distancia),description = 'Distancia:')\n",
    "#bounded_num = widgets.BoundedFloatText(min=0, max=100000, value=5, step=1,description='Number:')\n",
    "\n",
    "def common_filtering(proj, feature, distancia):\n",
    "    output.clear_output()\n",
    "    plot_output.clear_output()\n",
    "    bar_output.clear_output()\n",
    "    common_filter = df_london\n",
    "    \n",
    "    if (proj == ALL) & (feature == ALL)  & (distancia == ALL):\n",
    "        common_filter = df_london\n",
    "    \n",
    "    elif (proj !=ALL ) & (feature == ALL) & (distancia == ALL):\n",
    "        common_filter = df_london[(df_london.proj == proj)]\n",
    "    \n",
    "    elif (proj !=ALL ) &  (feature !=ALL ) & (distancia == ALL):\n",
    "        common_filter = df_london[(df_london.proj == proj) & (df_london.feature == feature)]\n",
    "        \n",
    "    elif (proj !=ALL ) & (feature == ALL):\n",
    "        common_filter = df_london[(df_london.proj == proj)]\n",
    "        \n",
    "    #elif (proj == ALL or feature == ALL or distancia == ALL ):\n",
    "        #common_filter = df_london[df_london.proj == proj]\n",
    "     \n",
    "\n",
    "        \n",
    "    else:\n",
    "        common_filter = df_london[(df_london.proj == proj) &  (df_london.feature == feature)  &  (df_london.distancia == distancia)]\n",
    "        df_acu_plot = df_acu.query('proj ==@proj & distancia == @distancia & feature == @feature' )\n",
    "        with plot_output:\n",
    "            proj_plot=px.scatter(common_filter,\n",
    "              x=\"x\",\n",
    "              y=\"y\",\n",
    "              color=\"Category\",\n",
    "              hover_name=\"Image\",\n",
    "              title=\"Scatter plot das Projeções multidimensionais\")\n",
    "            display(proj_plot)\n",
    "        with bar_output:\n",
    "            df_acu_plot = df_acu.query('proj ==@proj & distancia == @distancia & feature == @feature' )\n",
    "            bar_plot = px.bar(df_acu_plot, x=\"Algortimo\", y=\"Acuracia\", color=\"Algortimo\", text =  'Acuracia',title=\"Acurácia dos modelos preditivos\" )\n",
    "            display(bar_plot)\n",
    "\n",
    "    with output:\n",
    "        display(common_filter)\n",
    "       \n",
    "        \n",
    "def dropdown_proj_eventhandler(change):\n",
    "    common_filtering(change.new, dropdown_feature.value, dropdown_distancia.value)\n",
    "    \n",
    "    \n",
    "def dropdown_feature_eventhandler(change):\n",
    "    common_filtering(dropdown_proj.value, change.new,dropdown_distancia.value)\n",
    "    \n",
    "    \n",
    "\n",
    "def dropdown_distancia_eventhandler(change):\n",
    "    common_filtering(dropdown_proj.value, dropdown_feature.value, change.new)\n",
    "\n",
    "    \n",
    "dropdown_proj.observe(dropdown_proj_eventhandler, names='value')\n",
    "dropdown_feature.observe(dropdown_feature_eventhandler, names='value')\n",
    "dropdown_distancia.observe(dropdown_distancia_eventhandler, names='value')\n",
    "\n",
    "\n",
    "# display(oi)\n",
    "# display(dropdown_proj)\n",
    "# display(dropdown_feature)\n",
    "# display(dropdown_distancia)\n",
    "# display(output)\n",
    "# display(plot_output)\n",
    "# display(bar_output)"
   ]
  },
  {
   "cell_type": "code",
   "execution_count": null,
   "id": "679d142e",
   "metadata": {},
   "outputs": [],
   "source": []
  },
  {
   "cell_type": "code",
   "execution_count": null,
   "id": "a1a7efbc",
   "metadata": {},
   "outputs": [],
   "source": []
  },
  {
   "cell_type": "code",
   "execution_count": 23,
   "id": "847b6705",
   "metadata": {},
   "outputs": [
    {
     "data": {
      "application/vnd.jupyter.widget-view+json": {
       "model_id": "22268069ae3e456796a5e53e4e96cd56",
       "version_major": 2,
       "version_minor": 0
      },
      "text/plain": [
       "HBox(children=(Dropdown(description='Projeção:', index=1, options=('ALL', 'mds', 'pca', 'tsne'), value='mds'),…"
      ]
     },
     "metadata": {},
     "output_type": "display_data"
    },
    {
     "data": {
      "application/vnd.jupyter.widget-view+json": {
       "model_id": "8fe64107d1fb4f619186eedc7ec27f1b",
       "version_major": 2,
       "version_minor": 0
      },
      "text/plain": [
       "HBox(children=(Output(outputs=({'output_type': 'display_data', 'data': {'text/plain': '             x         …"
      ]
     },
     "metadata": {},
     "output_type": "display_data"
    }
   ],
   "source": [
    "input_widgets = widgets.HBox(\n",
    "[dropdown_proj, dropdown_feature, dropdown_distancia])\n",
    "\n",
    "input_widgets2 = widgets.HBox(\n",
    "[plot_output, bar_output])\n",
    "\n",
    "\n",
    "display(input_widgets)\n",
    "display(output)\n",
    "display(input_widgets2)\n",
    "# display(plot_output)\n",
    "# display(bar_output)"
   ]
  },
  {
   "cell_type": "code",
   "execution_count": null,
   "id": "3721802e",
   "metadata": {},
   "outputs": [],
   "source": []
  },
  {
   "cell_type": "code",
   "execution_count": null,
   "id": "5616dab4",
   "metadata": {},
   "outputs": [],
   "source": []
  },
  {
   "cell_type": "code",
   "execution_count": null,
   "id": "4f2a23fc",
   "metadata": {},
   "outputs": [],
   "source": []
  },
  {
   "cell_type": "code",
   "execution_count": null,
   "id": "d8701532",
   "metadata": {},
   "outputs": [],
   "source": []
  },
  {
   "cell_type": "code",
   "execution_count": null,
   "id": "25aa98f4",
   "metadata": {},
   "outputs": [],
   "source": []
  },
  {
   "cell_type": "code",
   "execution_count": null,
   "id": "5498a877",
   "metadata": {},
   "outputs": [],
   "source": []
  },
  {
   "cell_type": "code",
   "execution_count": null,
   "id": "2215cecb",
   "metadata": {},
   "outputs": [],
   "source": []
  },
  {
   "cell_type": "code",
   "execution_count": null,
   "id": "b995a609",
   "metadata": {
    "scrolled": true
   },
   "outputs": [],
   "source": []
  },
  {
   "cell_type": "code",
   "execution_count": null,
   "id": "1e5cc69d",
   "metadata": {},
   "outputs": [],
   "source": []
  },
  {
   "cell_type": "code",
   "execution_count": null,
   "id": "a0926b69",
   "metadata": {},
   "outputs": [],
   "source": []
  },
  {
   "cell_type": "code",
   "execution_count": null,
   "id": "9fc6106f",
   "metadata": {},
   "outputs": [],
   "source": []
  },
  {
   "cell_type": "code",
   "execution_count": null,
   "id": "3d3d8d35",
   "metadata": {},
   "outputs": [],
   "source": []
  },
  {
   "cell_type": "code",
   "execution_count": null,
   "id": "22217f23",
   "metadata": {},
   "outputs": [],
   "source": []
  },
  {
   "cell_type": "code",
   "execution_count": null,
   "id": "ff147a93",
   "metadata": {},
   "outputs": [],
   "source": []
  },
  {
   "cell_type": "code",
   "execution_count": null,
   "id": "9fc5039b",
   "metadata": {},
   "outputs": [],
   "source": []
  }
 ],
 "metadata": {
  "kernelspec": {
   "display_name": "base",
   "language": "python",
   "name": "base"
  },
  "language_info": {
   "codemirror_mode": {
    "name": "ipython",
    "version": 3
   },
   "file_extension": ".py",
   "mimetype": "text/x-python",
   "name": "python",
   "nbconvert_exporter": "python",
   "pygments_lexer": "ipython3",
   "version": "3.9.7"
  }
 },
 "nbformat": 4,
 "nbformat_minor": 5
}
