{
 "cells": [
  {
   "cell_type": "code",
   "execution_count": null,
   "id": "c5a602b7-6230-4092-8c4c-77dc486b347e",
   "metadata": {},
   "outputs": [],
   "source": [
    "import pydicom\n",
    "import os\n",
    "import cv2\n",
    "from skimage import io\n",
    "import numpy as np\n",
    "from pydicom.pixel_data_handlers.util import apply_voi_lut"
   ]
  },
  {
   "cell_type": "code",
   "execution_count": null,
   "id": "613fe1b9-6314-4a45-8028-45ba861fdffb",
   "metadata": {},
   "outputs": [],
   "source": [
    "inputdir = 'E:\\DataSetCovid\\dataset-img-rx-torax-COVID-anonimizados'\n",
    "outdir = 'E:\\DataSetCovid\\dataset-img-rx-torax-COVID-anonimizados/PNG_Files'"
   ]
  },
  {
   "cell_type": "code",
   "execution_count": null,
   "id": "41f27513-bf8e-420d-b4e7-1168f4d173c2",
   "metadata": {},
   "outputs": [],
   "source": [
    "# Caso o diretório de saída não exista, irá criar a pasta\n",
    "if (not os.path.exists(outdir)):\n",
    "    os.mkdir(path=outdir)"
   ]
  },
  {
   "cell_type": "code",
   "execution_count": null,
   "id": "3e3efe60-8638-46a0-9f3b-92867ecefaf4",
   "metadata": {},
   "outputs": [],
   "source": [
    "# Verifica se a escala de cinza está invertida (LUT)\n",
    "def dicom2array(path, voi_lut=True, fix_monochrome=True):\n",
    "    dicom = pydicom.read_file(path)\n",
    "    # VOI LUT (if available by DICOM device) is used to\n",
    "    # transform raw DICOM data to \"human-friendly\" view\n",
    "    if voi_lut:\n",
    "        data = apply_voi_lut(dicom.pixel_array, dicom)\n",
    "    else:\n",
    "        data = dicom.pixel_array\n",
    "    # depending on this value, X-ray may look inverted - fix that:\n",
    "    if fix_monochrome and dicom.PhotometricInterpretation == \"MONOCHROME1\":\n",
    "        data = np.amax(data) - data\n",
    "    data = data - np.min(data)\n",
    "    data = data / np.max(data)\n",
    "    data = (data * 255).astype(np.uint8)\n",
    "    return data"
   ]
  },
  {
   "cell_type": "code",
   "execution_count": null,
   "id": "37e9fea3-2737-4099-8f2d-c4bb0623a967",
   "metadata": {},
   "outputs": [],
   "source": [
    "#i = 0\n",
    "for dirname, _, filenames in os.walk(inputdir):\n",
    "    for filename in filenames:\n",
    "        f = os.path.join(dirname, filename)\n",
    "        \n",
    "        img = dicom2array(f)       \n",
    "        \n",
    "        cv2.imwrite(outdir + filename.replace('.dcm','.png'), img)\n",
    "        \n",
    "        #print(i)\n",
    "        #i+=1"
   ]
  }
 ],
 "metadata": {
  "kernelspec": {
   "display_name": "PythonVisu",
   "language": "python",
   "name": "pythonvisu"
  },
  "language_info": {
   "codemirror_mode": {
    "name": "ipython",
    "version": 3
   },
   "file_extension": ".py",
   "mimetype": "text/x-python",
   "name": "python",
   "nbconvert_exporter": "python",
   "pygments_lexer": "ipython3",
   "version": "3.9.6"
  }
 },
 "nbformat": 4,
 "nbformat_minor": 5
}
